{
 "cells": [
  {
   "cell_type": "code",
   "execution_count": 1,
   "metadata": {},
   "outputs": [],
   "source": [
    "import pandas as pd\n",
    "import numpy as np"
   ]
  },
  {
   "cell_type": "code",
   "execution_count": 3,
   "metadata": {},
   "outputs": [
    {
     "data": {
      "text/html": [
       "<div>\n",
       "<style scoped>\n",
       "    .dataframe tbody tr th:only-of-type {\n",
       "        vertical-align: middle;\n",
       "    }\n",
       "\n",
       "    .dataframe tbody tr th {\n",
       "        vertical-align: top;\n",
       "    }\n",
       "\n",
       "    .dataframe thead th {\n",
       "        text-align: right;\n",
       "    }\n",
       "</style>\n",
       "<table border=\"1\" class=\"dataframe\">\n",
       "  <thead>\n",
       "    <tr style=\"text-align: right;\">\n",
       "      <th></th>\n",
       "      <th>구분별(1)</th>\n",
       "      <th>구분별(2)</th>\n",
       "      <th>구분별(3)</th>\n",
       "      <th>2009</th>\n",
       "      <th>2009.1</th>\n",
       "      <th>2009.2</th>\n",
       "      <th>2010</th>\n",
       "      <th>2010.1</th>\n",
       "      <th>2010.2</th>\n",
       "      <th>2011</th>\n",
       "      <th>...</th>\n",
       "      <th>2019.2</th>\n",
       "      <th>2020</th>\n",
       "      <th>2020.1</th>\n",
       "      <th>2020.2</th>\n",
       "      <th>2021</th>\n",
       "      <th>2021.1</th>\n",
       "      <th>2021.2</th>\n",
       "      <th>2022</th>\n",
       "      <th>2022.1</th>\n",
       "      <th>2022.2</th>\n",
       "    </tr>\n",
       "  </thead>\n",
       "  <tbody>\n",
       "    <tr>\n",
       "      <th>0</th>\n",
       "      <td>구분별(1)</td>\n",
       "      <td>구분별(2)</td>\n",
       "      <td>구분별(3)</td>\n",
       "      <td>전체</td>\n",
       "      <td>남자</td>\n",
       "      <td>여자</td>\n",
       "      <td>전체</td>\n",
       "      <td>남자</td>\n",
       "      <td>여자</td>\n",
       "      <td>전체</td>\n",
       "      <td>...</td>\n",
       "      <td>여자</td>\n",
       "      <td>전체</td>\n",
       "      <td>남자</td>\n",
       "      <td>여자</td>\n",
       "      <td>전체</td>\n",
       "      <td>남자</td>\n",
       "      <td>여자</td>\n",
       "      <td>전체</td>\n",
       "      <td>남자</td>\n",
       "      <td>여자</td>\n",
       "    </tr>\n",
       "    <tr>\n",
       "      <th>1</th>\n",
       "      <td>서울시</td>\n",
       "      <td>소계</td>\n",
       "      <td>소계</td>\n",
       "      <td>21.3</td>\n",
       "      <td>27.7</td>\n",
       "      <td>15.2</td>\n",
       "      <td>21.7</td>\n",
       "      <td>28.5</td>\n",
       "      <td>15.1</td>\n",
       "      <td>22.7</td>\n",
       "      <td>...</td>\n",
       "      <td>23.0</td>\n",
       "      <td>28.9</td>\n",
       "      <td>38.6</td>\n",
       "      <td>19.7</td>\n",
       "      <td>28.6</td>\n",
       "      <td>38.5</td>\n",
       "      <td>19.4</td>\n",
       "      <td>29.5</td>\n",
       "      <td>39.7</td>\n",
       "      <td>20.0</td>\n",
       "    </tr>\n",
       "    <tr>\n",
       "      <th>2</th>\n",
       "      <td>서울시</td>\n",
       "      <td>생애주기별</td>\n",
       "      <td>19~29세</td>\n",
       "      <td>13.7</td>\n",
       "      <td>21.2</td>\n",
       "      <td>6.2</td>\n",
       "      <td>13.1</td>\n",
       "      <td>21.5</td>\n",
       "      <td>4.6</td>\n",
       "      <td>15.4</td>\n",
       "      <td>...</td>\n",
       "      <td>11.1</td>\n",
       "      <td>23.2</td>\n",
       "      <td>35.1</td>\n",
       "      <td>11.8</td>\n",
       "      <td>23.5</td>\n",
       "      <td>35.1</td>\n",
       "      <td>12.5</td>\n",
       "      <td>24.2</td>\n",
       "      <td>35.3</td>\n",
       "      <td>13.9</td>\n",
       "    </tr>\n",
       "    <tr>\n",
       "      <th>3</th>\n",
       "      <td>서울시</td>\n",
       "      <td>생애주기별</td>\n",
       "      <td>30~44세</td>\n",
       "      <td>22.7</td>\n",
       "      <td>34.1</td>\n",
       "      <td>10.9</td>\n",
       "      <td>22.9</td>\n",
       "      <td>34.5</td>\n",
       "      <td>10.9</td>\n",
       "      <td>23.6</td>\n",
       "      <td>...</td>\n",
       "      <td>15.5</td>\n",
       "      <td>31.2</td>\n",
       "      <td>46.7</td>\n",
       "      <td>15.3</td>\n",
       "      <td>31.1</td>\n",
       "      <td>46.7</td>\n",
       "      <td>15.5</td>\n",
       "      <td>33.7</td>\n",
       "      <td>49.8</td>\n",
       "      <td>17.2</td>\n",
       "    </tr>\n",
       "    <tr>\n",
       "      <th>4</th>\n",
       "      <td>서울시</td>\n",
       "      <td>생애주기별</td>\n",
       "      <td>45~64세</td>\n",
       "      <td>24.1</td>\n",
       "      <td>27.7</td>\n",
       "      <td>20.7</td>\n",
       "      <td>24.4</td>\n",
       "      <td>28.7</td>\n",
       "      <td>20.3</td>\n",
       "      <td>25.5</td>\n",
       "      <td>...</td>\n",
       "      <td>25.2</td>\n",
       "      <td>30.3</td>\n",
       "      <td>40.6</td>\n",
       "      <td>20.8</td>\n",
       "      <td>30.2</td>\n",
       "      <td>40.5</td>\n",
       "      <td>20.7</td>\n",
       "      <td>29.6</td>\n",
       "      <td>40.0</td>\n",
       "      <td>20.1</td>\n",
       "    </tr>\n",
       "  </tbody>\n",
       "</table>\n",
       "<p>5 rows × 45 columns</p>\n",
       "</div>"
      ],
      "text/plain": [
       "   구분별(1)  구분별(2)  구분별(3)  2009 2009.1 2009.2  2010 2010.1 2010.2  2011  ...  \\\n",
       "0  구분별(1)  구분별(2)  구분별(3)    전체     남자     여자    전체     남자     여자    전체  ...   \n",
       "1     서울시      소계      소계  21.3   27.7   15.2  21.7   28.5   15.1  22.7  ...   \n",
       "2     서울시   생애주기별  19~29세  13.7   21.2    6.2  13.1   21.5    4.6  15.4  ...   \n",
       "3     서울시   생애주기별  30~44세  22.7   34.1   10.9  22.9   34.5   10.9  23.6  ...   \n",
       "4     서울시   생애주기별  45~64세  24.1   27.7   20.7  24.4   28.7   20.3  25.5  ...   \n",
       "\n",
       "  2019.2  2020 2020.1 2020.2  2021 2021.1 2021.2  2022 2022.1 2022.2  \n",
       "0     여자    전체     남자     여자    전체     남자     여자    전체     남자     여자  \n",
       "1   23.0  28.9   38.6   19.7  28.6   38.5   19.4  29.5   39.7   20.0  \n",
       "2   11.1  23.2   35.1   11.8  23.5   35.1   12.5  24.2   35.3   13.9  \n",
       "3   15.5  31.2   46.7   15.3  31.1   46.7   15.5  33.7   49.8   17.2  \n",
       "4   25.2  30.3   40.6   20.8  30.2   40.5   20.7  29.6   40.0   20.1  \n",
       "\n",
       "[5 rows x 45 columns]"
      ]
     },
     "execution_count": 3,
     "metadata": {},
     "output_type": "execute_result"
    }
   ],
   "source": [
    "df = pd.read_csv('data/fat_rate.csv')\n",
    "df.head()"
   ]
  },
  {
   "cell_type": "code",
   "execution_count": 4,
   "metadata": {},
   "outputs": [
    {
     "data": {
      "text/plain": [
       "Index(['구분별(1)', '구분별(2)', '구분별(3)', '2009', '2009.1', '2009.2', '2010',\n",
       "       '2010.1', '2010.2', '2011', '2011.1', '2011.2', '2012', '2012.1',\n",
       "       '2012.2', '2013', '2013.1', '2013.2', '2014', '2014.1', '2014.2',\n",
       "       '2015', '2015.1', '2015.2', '2016', '2016.1', '2016.2', '2017',\n",
       "       '2017.1', '2017.2', '2018', '2018.1', '2018.2', '2019', '2019.1',\n",
       "       '2019.2', '2020', '2020.1', '2020.2', '2021', '2021.1', '2021.2',\n",
       "       '2022', '2022.1', '2022.2'],\n",
       "      dtype='object')"
      ]
     },
     "execution_count": 4,
     "metadata": {},
     "output_type": "execute_result"
    }
   ],
   "source": [
    "df.columns"
   ]
  },
  {
   "cell_type": "code",
   "execution_count": 5,
   "metadata": {},
   "outputs": [],
   "source": [
    "df_target = df[(df['구분별(3)']=='19~29세') | (df['구분별(3)']=='30~44세')]"
   ]
  },
  {
   "cell_type": "code",
   "execution_count": 6,
   "metadata": {},
   "outputs": [],
   "source": [
    "target_col = ['2017','2018','2019','2020','2021','2022']"
   ]
  },
  {
   "cell_type": "code",
   "execution_count": 7,
   "metadata": {},
   "outputs": [
    {
     "data": {
      "text/plain": [
       "array([['18.9', '21.0', '22.9', '23.2', '23.5', '24.2'],\n",
       "       ['26.1', '29.4', '32.5', '31.2', '31.1', '33.7']], dtype=object)"
      ]
     },
     "execution_count": 7,
     "metadata": {},
     "output_type": "execute_result"
    }
   ],
   "source": [
    "df_target = df_target[target_col]\n",
    "np.array(df_target)"
   ]
  },
  {
   "cell_type": "code",
   "execution_count": 14,
   "metadata": {},
   "outputs": [
    {
     "data": {
      "image/png": "[encoded data removed]",
      "text/plain": [
       "<Figure size 1000x600 with 1 Axes>"
      ]
     },
     "metadata": {},
     "output_type": "display_data"
    }
   ],
   "source": [
    "import seaborn as sns\n",
    "import matplotlib.pyplot as plt\n",
    "x = np.arange(len(df_target.columns))  # 막대의 x좌표\n",
    "y1 = df_target.iloc[0, :].values.astype('float')       # 첫 번째 데이터 세트\n",
    "y2 = df_target.iloc[1, :].values.astype('float')\n",
    "y3 = (y1+y2)/2       \n",
    "width = 0.4    \n",
    "plt.figure(figsize= (10,6))\n",
    "plt.bar(x - width/2, y1, width=width, label='20~29') \n",
    "plt.bar(x + width/2, y2, width=width, label='30~44') \n",
    "plt.plot(y3, \"-\")\n",
    "plt.ylim(0,None)\n",
    "plt.xticks(x, df_target.columns, fontsize = 6)\n",
    "plt.title('Obesity Rate from 2017 to 2022')\n",
    "plt.legend()\n",
    "plt.show()"
   ]
  },
  {
   "cell_type": "code",
   "execution_count": 95,
   "metadata": {},
   "outputs": [
    {
     "name": "stderr",
     "output_type": "stream",
     "text": [
      "/opt/homebrew/anaconda3/lib/python3.12/site-packages/openpyxl/styles/stylesheet.py:237: UserWarning: Workbook contains no default style, apply openpyxl's default\n",
      "  warn(\"Workbook contains no default style, apply openpyxl's default\")\n"
     ]
    }
   ],
   "source": [
    "df_dessert=pd.read_excel('data/dessert_trend.xlsx')"
   ]
  },
  {
   "cell_type": "code",
   "execution_count": 96,
   "metadata": {},
   "outputs": [],
   "source": [
    "df_dessert = pd.DataFrame(df_dessert.iloc[6:])\n",
    "colnames = ['date','rate']"
   ]
  },
  {
   "cell_type": "code",
   "execution_count": 97,
   "metadata": {},
   "outputs": [],
   "source": [
    "df_dessert = df_dessert.rename(columns = {df_dessert.columns[0]: colnames[0], df_dessert.columns[1]:colnames[1]})"
   ]
  },
  {
   "cell_type": "code",
   "execution_count": 98,
   "metadata": {},
   "outputs": [
    {
     "data": {
      "text/html": [
       "<div>\n",
       "<style scoped>\n",
       "    .dataframe tbody tr th:only-of-type {\n",
       "        vertical-align: middle;\n",
       "    }\n",
       "\n",
       "    .dataframe tbody tr th {\n",
       "        vertical-align: top;\n",
       "    }\n",
       "\n",
       "    .dataframe thead th {\n",
       "        text-align: right;\n",
       "    }\n",
       "</style>\n",
       "<table border=\"1\" class=\"dataframe\">\n",
       "  <thead>\n",
       "    <tr style=\"text-align: right;\">\n",
       "      <th></th>\n",
       "      <th>date</th>\n",
       "      <th>rate</th>\n",
       "    </tr>\n",
       "  </thead>\n",
       "  <tbody>\n",
       "    <tr>\n",
       "      <th>6</th>\n",
       "      <td>2017-01-01</td>\n",
       "      <td>23.48856</td>\n",
       "    </tr>\n",
       "    <tr>\n",
       "      <th>7</th>\n",
       "      <td>2017-01-02</td>\n",
       "      <td>22.79411</td>\n",
       "    </tr>\n",
       "    <tr>\n",
       "      <th>8</th>\n",
       "      <td>2017-01-03</td>\n",
       "      <td>22.91666</td>\n",
       "    </tr>\n",
       "    <tr>\n",
       "      <th>9</th>\n",
       "      <td>2017-01-04</td>\n",
       "      <td>43.1781</td>\n",
       "    </tr>\n",
       "    <tr>\n",
       "      <th>10</th>\n",
       "      <td>2017-01-05</td>\n",
       "      <td>28.14542</td>\n",
       "    </tr>\n",
       "    <tr>\n",
       "      <th>...</th>\n",
       "      <td>...</td>\n",
       "      <td>...</td>\n",
       "    </tr>\n",
       "    <tr>\n",
       "      <th>2183</th>\n",
       "      <td>2022-12-18</td>\n",
       "      <td>46.93627</td>\n",
       "    </tr>\n",
       "    <tr>\n",
       "      <th>2184</th>\n",
       "      <td>2022-12-19</td>\n",
       "      <td>42.19771</td>\n",
       "    </tr>\n",
       "    <tr>\n",
       "      <th>2185</th>\n",
       "      <td>2022-12-20</td>\n",
       "      <td>44.28104</td>\n",
       "    </tr>\n",
       "    <tr>\n",
       "      <th>2186</th>\n",
       "      <td>2022-12-21</td>\n",
       "      <td>46.16013</td>\n",
       "    </tr>\n",
       "    <tr>\n",
       "      <th>2187</th>\n",
       "      <td>2022-12-22</td>\n",
       "      <td>46.40522</td>\n",
       "    </tr>\n",
       "  </tbody>\n",
       "</table>\n",
       "<p>2182 rows × 2 columns</p>\n",
       "</div>"
      ],
      "text/plain": [
       "            date      rate\n",
       "6     2017-01-01  23.48856\n",
       "7     2017-01-02  22.79411\n",
       "8     2017-01-03  22.91666\n",
       "9     2017-01-04   43.1781\n",
       "10    2017-01-05  28.14542\n",
       "...          ...       ...\n",
       "2183  2022-12-18  46.93627\n",
       "2184  2022-12-19  42.19771\n",
       "2185  2022-12-20  44.28104\n",
       "2186  2022-12-21  46.16013\n",
       "2187  2022-12-22  46.40522\n",
       "\n",
       "[2182 rows x 2 columns]"
      ]
     },
     "execution_count": 98,
     "metadata": {},
     "output_type": "execute_result"
    }
   ],
   "source": [
    "df_dessert"
   ]
  },
  {
   "cell_type": "code",
   "execution_count": 112,
   "metadata": {},
   "outputs": [],
   "source": [
    "df_dessert['date'] = pd.to_datetime(df_dessert['date'])\n",
    "df_dessert['year'] = df_dessert['date'].dt.year\n",
    "df_dessert['rate'] = df_dessert['rate'].astype('float')"
   ]
  },
  {
   "cell_type": "code",
   "execution_count": 133,
   "metadata": {},
   "outputs": [
    {
     "data": {
      "text/plain": [
       "year\n",
       "2017     8231.86095\n",
       "2018     9318.42133\n",
       "2019     9771.60768\n",
       "2020    11981.41158\n",
       "2021    13547.01628\n",
       "2022    15374.95732\n",
       "Name: rate, dtype: float64"
      ]
     },
     "execution_count": 133,
     "metadata": {},
     "output_type": "execute_result"
    }
   ],
   "source": [
    "a = df_dessert.groupby('year')['rate'].sum()\n",
    "a"
   ]
  },
  {
   "cell_type": "code",
   "execution_count": 156,
   "metadata": {},
   "outputs": [
    {
     "data": {
      "text/html": [
       "<div>\n",
       "<style scoped>\n",
       "    .dataframe tbody tr th:only-of-type {\n",
       "        vertical-align: middle;\n",
       "    }\n",
       "\n",
       "    .dataframe tbody tr th {\n",
       "        vertical-align: top;\n",
       "    }\n",
       "\n",
       "    .dataframe thead th {\n",
       "        text-align: right;\n",
       "    }\n",
       "</style>\n",
       "<table border=\"1\" class=\"dataframe\">\n",
       "  <thead>\n",
       "    <tr style=\"text-align: right;\">\n",
       "      <th></th>\n",
       "      <th>index</th>\n",
       "      <th>year</th>\n",
       "      <th>rate</th>\n",
       "    </tr>\n",
       "  </thead>\n",
       "  <tbody>\n",
       "    <tr>\n",
       "      <th>0</th>\n",
       "      <td>0</td>\n",
       "      <td>2017</td>\n",
       "      <td>8231.86095</td>\n",
       "    </tr>\n",
       "    <tr>\n",
       "      <th>1</th>\n",
       "      <td>1</td>\n",
       "      <td>2018</td>\n",
       "      <td>9318.42133</td>\n",
       "    </tr>\n",
       "    <tr>\n",
       "      <th>2</th>\n",
       "      <td>2</td>\n",
       "      <td>2019</td>\n",
       "      <td>9771.60768</td>\n",
       "    </tr>\n",
       "    <tr>\n",
       "      <th>3</th>\n",
       "      <td>3</td>\n",
       "      <td>2020</td>\n",
       "      <td>11981.41158</td>\n",
       "    </tr>\n",
       "    <tr>\n",
       "      <th>4</th>\n",
       "      <td>4</td>\n",
       "      <td>2021</td>\n",
       "      <td>13547.01628</td>\n",
       "    </tr>\n",
       "    <tr>\n",
       "      <th>5</th>\n",
       "      <td>5</td>\n",
       "      <td>2022</td>\n",
       "      <td>15374.95732</td>\n",
       "    </tr>\n",
       "  </tbody>\n",
       "</table>\n",
       "</div>"
      ],
      "text/plain": [
       "   index  year         rate\n",
       "0      0  2017   8231.86095\n",
       "1      1  2018   9318.42133\n",
       "2      2  2019   9771.60768\n",
       "3      3  2020  11981.41158\n",
       "4      4  2021  13547.01628\n",
       "5      5  2022  15374.95732"
      ]
     },
     "execution_count": 156,
     "metadata": {},
     "output_type": "execute_result"
    }
   ],
   "source": [
    "a= a.reset_index()\n",
    "a"
   ]
  },
  {
   "cell_type": "code",
   "execution_count": 135,
   "metadata": {},
   "outputs": [
    {
     "data": {
      "text/plain": [
       "9318.42133"
      ]
     },
     "execution_count": 135,
     "metadata": {},
     "output_type": "execute_result"
    }
   ],
   "source": [
    "a['rate'][1]"
   ]
  },
  {
   "cell_type": "code",
   "execution_count": 138,
   "metadata": {},
   "outputs": [
    {
     "data": {
      "image/png": "[encoded data removed]",
      "text/plain": [
       "<Figure size 640x480 with 1 Axes>"
      ]
     },
     "metadata": {},
     "output_type": "display_data"
    }
   ],
   "source": [
    "plt.bar(a['year'],a['rate'])\n",
    "\n",
    "plt.title('dessert search count from 2017 to 2022')\n",
    "plt.show()"
   ]
  },
  {
   "cell_type": "code",
   "execution_count": 102,
   "metadata": {},
   "outputs": [
    {
     "ename": "TypeError",
     "evalue": "object of type 'method' has no len()",
     "output_type": "error",
     "traceback": [
      "\u001b[0;31m---------------------------------------------------------------------------\u001b[0m",
      "\u001b[0;31mTypeError\u001b[0m                                 Traceback (most recent call last)",
      "Cell \u001b[0;32mIn[102], line 1\u001b[0m\n\u001b[0;32m----> 1\u001b[0m x \u001b[38;5;241m=\u001b[39m np\u001b[38;5;241m.\u001b[39marange(\u001b[38;5;28mlen\u001b[39m(df_dessert[\u001b[38;5;124m'\u001b[39m\u001b[38;5;124myear\u001b[39m\u001b[38;5;124m'\u001b[39m]\u001b[38;5;241m.\u001b[39munique))  \u001b[38;5;66;03m# 막대의 x좌표\u001b[39;00m\n\u001b[1;32m      2\u001b[0m y1 \u001b[38;5;241m=\u001b[39m df_dessert\u001b[38;5;241m.\u001b[39miloc[\u001b[38;5;241m0\u001b[39m, :]\u001b[38;5;241m.\u001b[39mvalues       \u001b[38;5;66;03m# 첫 번째 데이터 세트\u001b[39;00m\n\u001b[1;32m      3\u001b[0m width \u001b[38;5;241m=\u001b[39m \u001b[38;5;241m0.4\u001b[39m    \n",
      "\u001b[0;31mTypeError\u001b[0m: object of type 'method' has no len()"
     ]
    }
   ],
   "source": [
    "x = np.arange(len(df_dessert['year'].unique))  # 막대의 x좌표\n",
    "y1 = df_dessert.iloc[0, :].values       # 첫 번째 데이터 세트\n",
    "width = 0.4    \n",
    "plt.figure(figsize= (10,6))\n",
    "plt.bar(x - width/2, y1, width=width, label='20')  # 첫 번째 데이터 세트 \n",
    "plt.ylim(0,35)\n",
    "plt.yticks(np.arange(0, 35, 10))\n",
    "plt.xticks(x, df_target.columns, fontsize = 6)\n",
    "plt.title('Obesity Rate from 2to 2022')\n",
    "plt.legend()\n",
    "plt.show()"
   ]
  },
  {
   "cell_type": "code",
   "execution_count": null,
   "metadata": {},
   "outputs": [],
   "source": []
  }
 ],
 "metadata": {
  "kernelspec": {
   "display_name": "base",
   "language": "python",
   "name": "python3"
  },
  "language_info": {
   "codemirror_mode": {
    "name": "ipython",
    "version": 3
   },
   "file_extension": ".py",
   "mimetype": "text/x-python",
   "name": "python",
   "nbconvert_exporter": "python",
   "pygments_lexer": "ipython3",
   "version": "3.12.7"
  }
 },
 "nbformat": 4,
 "nbformat_minor": 2
}
